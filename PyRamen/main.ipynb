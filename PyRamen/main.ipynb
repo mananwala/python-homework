{
 "cells": [
  {
   "cell_type": "code",
   "execution_count": 28,
   "id": "b1ea7606-f2e0-4c95-95fd-6ba2f5f03815",
   "metadata": {},
   "outputs": [],
   "source": [
    "import csv"
   ]
  },
  {
   "cell_type": "code",
   "execution_count": 29,
   "id": "69827175-144f-416e-876f-ce9b580e5e74",
   "metadata": {},
   "outputs": [],
   "source": [
    "from pathlib import Path"
   ]
  },
  {
   "cell_type": "code",
   "execution_count": 30,
   "id": "6e0298ed-6ee4-4065-94a0-bff3d3609f56",
   "metadata": {},
   "outputs": [],
   "source": [
    "menu_file=Path(r\"C:\\Users\\User\\Documents\\Manan Wala\\Fintech bootcamp\\Homework\\Homework_2\\python-homework\\PyRamen\\menu_data.csv\")"
   ]
  },
  {
   "cell_type": "code",
   "execution_count": 31,
   "id": "1583c521-26df-44dc-85ab-dc21c715a503",
   "metadata": {},
   "outputs": [],
   "source": [
    "sales_file=Path(r\"C:\\Users\\User\\Documents\\Manan Wala\\Fintech bootcamp\\Homework\\Homework_2\\python-homework\\PyRamen\\sales_data.csv\")"
   ]
  },
  {
   "cell_type": "code",
   "execution_count": 32,
   "id": "489b5d39-2787-4a6e-87be-2b3b86dfd2ce",
   "metadata": {},
   "outputs": [],
   "source": [
    "menu=[]\n",
    "sales=[]"
   ]
  },
  {
   "cell_type": "code",
   "execution_count": 33,
   "id": "2aca411e-885a-4648-9362-12b42ca6c0fe",
   "metadata": {},
   "outputs": [],
   "source": [
    "with open(menu_file, \"r\") as menu_csv:\n",
    "    menu_csvreader=csv.reader(menu_csv,delimiter=\",\")\n",
    "    menu_csv_header=next(menu_csvreader)\n",
    "    for row in menu_csvreader:\n",
    "        menu.append(row)"
   ]
  },
  {
   "cell_type": "code",
   "execution_count": 34,
   "id": "07f04db3-b7e8-4549-b72d-93cee5d731a7",
   "metadata": {},
   "outputs": [],
   "source": [
    "with open(sales_file, \"r\") as sales_csv:\n",
    "    sales_csvreader=csv.reader(sales_csv,delimiter=\",\")\n",
    "    sales_csv_header=next(sales_csvreader)\n",
    "    for row in sales_csvreader:\n",
    "        sales.append(row)"
   ]
  },
  {
   "cell_type": "code",
   "execution_count": 35,
   "id": "23a77a14-12c3-4e81-8fa7-003ba10c87a0",
   "metadata": {},
   "outputs": [],
   "source": [
    "report={}"
   ]
  },
  {
   "cell_type": "code",
   "execution_count": 36,
   "id": "f88e10a4-3c8a-493d-ade1-db1ced74ec75",
   "metadata": {},
   "outputs": [],
   "source": [
    "for row_sales in sales:\n",
    "    line_item_id=row_sales[0]\n",
    "    date=row_sales[1]\n",
    "    credit_card_number=row_sales[2]\n",
    "    quantity=int(row_sales[3])\n",
    "    menu_item=str(row_sales[4])\n",
    "    \n",
    "    if menu_item not in report.keys():\n",
    "        report[menu_item]={\n",
    "        \"01-count\": 0,\n",
    "        \"02-revenue\": 0,\n",
    "        \"03-cogs\": 0,\n",
    "        \"04-profit\": 0\n",
    "        }\n",
    "        \n",
    "    for row_menu in menu:\n",
    "        item=str(row_menu[0])\n",
    "        category=row_menu[1]\n",
    "        description=row_menu[2]\n",
    "        price=float(row_menu[3])\n",
    "        cost=float(row_menu[4])\n",
    "        \n",
    "        profit=(price-cost)*quantity\n",
    "        report[menu_item][\"01-count\"]+=quantity\n",
    "        report[menu_item][\"02-revenue\"]+=price*quantity\n",
    "        report[menu_item][\"03-cogs\"]+=cost*quantity\n",
    "        report[menu_item][\"04-profit\"]+=profit*quantity"
   ]
  },
  {
   "cell_type": "code",
   "execution_count": 37,
   "id": "083d0b9c-7dc1-4ce7-9aca-5957075d9dfd",
   "metadata": {},
   "outputs": [],
   "source": [
    "output=str(report)"
   ]
  },
  {
   "cell_type": "code",
   "execution_count": 38,
   "id": "c7197956-c36a-4b07-9562-dc9673f5815e",
   "metadata": {},
   "outputs": [],
   "source": [
    "output_path=\"output_report.txt\"\n",
    "with open(output_path, \"w\") as file:\n",
    "    file.write(output)"
   ]
  },
  {
   "cell_type": "code",
   "execution_count": null,
   "id": "27e4818c-bd2b-4894-820d-bcea815439e7",
   "metadata": {},
   "outputs": [],
   "source": []
  }
 ],
 "metadata": {
  "kernelspec": {
   "display_name": "Python 3 (ipykernel)",
   "language": "python",
   "name": "python3"
  },
  "language_info": {
   "codemirror_mode": {
    "name": "ipython",
    "version": 3
   },
   "file_extension": ".py",
   "mimetype": "text/x-python",
   "name": "python",
   "nbconvert_exporter": "python",
   "pygments_lexer": "ipython3",
   "version": "3.7.13"
  }
 },
 "nbformat": 4,
 "nbformat_minor": 5
}
