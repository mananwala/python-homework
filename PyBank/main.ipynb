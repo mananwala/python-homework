{
 "cells": [
  {
   "cell_type": "code",
   "execution_count": 47,
   "id": "6274c620-e570-4ca6-a36e-b283c6448e2c",
   "metadata": {},
   "outputs": [],
   "source": [
    "from pathlib import Path"
   ]
  },
  {
   "cell_type": "code",
   "execution_count": 48,
   "id": "b9611483-c7a9-4cd9-9b61-ef1fc761b175",
   "metadata": {},
   "outputs": [],
   "source": [
    "import csv"
   ]
  },
  {
   "cell_type": "code",
   "execution_count": 49,
   "id": "825691cf-0c7b-431a-8623-59911dfacec5",
   "metadata": {},
   "outputs": [],
   "source": [
    "csvpath=Path('C:/Users/User/Documents/Manan Wala/Fintech bootcamp/Homework/Homework_2/python-homework/PyBank/budget_data.csv')"
   ]
  },
  {
   "cell_type": "code",
   "execution_count": 50,
   "id": "8bd26c54-8388-4c64-92ca-ddf57af4edb8",
   "metadata": {},
   "outputs": [],
   "source": [
    "months=0\n",
    "total=0\n",
    "profit_loss=0\n",
    "change=0\n",
    "total_change=0\n",
    "average=0\n",
    "max_pnl=0\n",
    "min_pnl=0\n",
    "max_key=''\n",
    "min_key=''"
   ]
  },
  {
   "cell_type": "code",
   "execution_count": 51,
   "id": "e6268ceb-3521-4a21-8369-f5681bf8b1e6",
   "metadata": {},
   "outputs": [],
   "source": [
    "records=[]"
   ]
  },
  {
   "cell_type": "code",
   "execution_count": 52,
   "id": "2216fd19-b15d-44cb-bd87-1f8457d16dd3",
   "metadata": {},
   "outputs": [],
   "source": [
    "def Analysis(budget_data):\n",
    "    global months\n",
    "    global total\n",
    "    months=months+1\n",
    "    total=total+int(row[1])"
   ]
  },
  {
   "cell_type": "code",
   "execution_count": 53,
   "id": "fb0b8e5c-3d4e-461a-bdba-c242e04456db",
   "metadata": {},
   "outputs": [],
   "source": [
    "def Difference(budget_data):\n",
    "    global profit_loss\n",
    "    global change\n",
    "    global total_change\n",
    "    profit_loss=int(row[1])\n",
    "    if months==1:\n",
    "        change=0\n",
    "    else:\n",
    "        change=profit_loss-change\n",
    "    total_change=total_change+change"
   ]
  },
  {
   "cell_type": "code",
   "execution_count": 54,
   "id": "67a6e93e-3c3e-42bd-ad91-de0897c6675c",
   "metadata": {},
   "outputs": [],
   "source": [
    "with open(csvpath, 'r') as csvfile:\n",
    "    csvreader=csv.reader(csvfile, delimiter=\",\")\n",
    "    csv_header=next(csvreader)\n",
    "    csv_header.append(\"Change\")\n",
    "    records.append(csv_header)\n",
    "    for row in csvreader:\n",
    "        Analysis(row)\n",
    "        Difference(row)\n",
    "        row.append(change)\n",
    "        records.append(row)\n",
    "        change=profit_loss\n",
    "        if min_pnl==0:\n",
    "            min_pnl=int(row[2])\n",
    "            min_key=str(row[0])\n",
    "        elif int(row[2])<min_pnl:\n",
    "              min_pnl=int(row[2])\n",
    "              min_key=str(row[0])\n",
    "        if int(row[2])>max_pnl:\n",
    "              max_pnl=int(row[2])\n",
    "              max_key=str(row[0])\n",
    "average=round((total_change/(months-1)),2)"
   ]
  },
  {
   "cell_type": "code",
   "execution_count": 57,
   "id": "a960837f-606d-478f-92c7-b043aa7b48c2",
   "metadata": {},
   "outputs": [
    {
     "name": "stdout",
     "output_type": "stream",
     "text": [
      "Financial Analysis\n",
      "----------------------------------------------------\n",
      "Total Months: 86\n",
      "Total: $38382578\n",
      "Average Change: $-2315.12\n",
      "Greatest Increase in Profits: Feb-2012 ($1926159)\n",
      "Greatest Decrease in Profits: Sep-2013 ($-2196167)\n"
     ]
    }
   ],
   "source": [
    "print(f'Financial Analysis')\n",
    "print(f'----------------------------------------------------')\n",
    "print(f'Total Months: {months}')\n",
    "print(f'Total: ${total}')\n",
    "print(f'Average Change: ${average}')\n",
    "print(f'Greatest Increase in Profits: {max_key} (${max_pnl})')\n",
    "print(f'Greatest Decrease in Profits: {min_key} (${min_pnl})')"
   ]
  },
  {
   "cell_type": "code",
   "execution_count": 60,
   "id": "756eb5d6-f357-4973-8e6f-9084da2e9c60",
   "metadata": {},
   "outputs": [],
   "source": [
    "output_path=Path('Financial_Analysis.txt')\n",
    "with open(output_path, 'w') as file:\n",
    "    file.write(f'Financial Analysis\\n')\n",
    "    file.write(f'----------------------------------------------------\\n')\n",
    "    file.write(f'Total Months: {months}\\n')\n",
    "    file.write(f'Total: ${total}\\n')\n",
    "    file.write(f'Average Change: ${average}\\n')\n",
    "    file.write(f'Greatest Increase in Profits: {max_key} (${max_pnl})\\n')\n",
    "    file.write(f'Greatest Decrease in Profits: {min_key} (${min_pnl})\\n')"
   ]
  },
  {
   "cell_type": "code",
   "execution_count": null,
   "id": "6ace7d5b-85d0-49a4-87b7-ae6c47a412e6",
   "metadata": {},
   "outputs": [],
   "source": []
  }
 ],
 "metadata": {
  "kernelspec": {
   "display_name": "Python 3 (ipykernel)",
   "language": "python",
   "name": "python3"
  },
  "language_info": {
   "codemirror_mode": {
    "name": "ipython",
    "version": 3
   },
   "file_extension": ".py",
   "mimetype": "text/x-python",
   "name": "python",
   "nbconvert_exporter": "python",
   "pygments_lexer": "ipython3",
   "version": "3.7.13"
  }
 },
 "nbformat": 4,
 "nbformat_minor": 5
}
